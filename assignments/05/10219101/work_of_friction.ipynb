{
 "cells": [
  {
   "cell_type": "markdown",
   "id": "1e51ab9a",
   "metadata": {},
   "source": [
    "# Kerja Gaya Gesek\n",
    "\n",
    "Sparisoma Viridi<sup>1</sup>, Tim Pendukung<sup>2</sup> <br>\n",
    "Program Studi Sarjana Fisika, Institut Teknologi Bandung <br>\n",
    "Jalan Gensha 10, Bandung 40132, Indonesia <br>\n",
    "<sup>1</sup>dudung@gmail.com, https://github.com/dudung <br>\n",
    "<sup>2</sup>timpendukung@gmail.com, https://github.com/timpendukung\n",
    "\n",
    "Kerja yang dilakukan oleh gaya gesek merupakan bentuk kerja yang tidak diharapkan karena energi yang dikeluarkan, biasanya dalam bentuk panas atau bunyi yang dilepas ke lingkungan, tidak dapat dimanfaatkan lagi oleh sistem sehingga energi sistem berkurang."
   ]
  }
